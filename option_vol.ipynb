{
  "nbformat": 4,
  "nbformat_minor": 0,
  "metadata": {
    "colab": {
      "name": "option vol.ipynb",
      "provenance": [],
      "collapsed_sections": [
        "EF1mGkm5ARma"
      ],
      "include_colab_link": true
    },
    "kernelspec": {
      "name": "python3",
      "display_name": "Python 3"
    },
    "language_info": {
      "name": "python"
    },
    "accelerator": "GPU"
  },
  "cells": [
    {
      "cell_type": "markdown",
      "metadata": {
        "id": "view-in-github",
        "colab_type": "text"
      },
      "source": [
        "<a href=\"https://colab.research.google.com/github/goodladcici/mom/blob/main/option_vol.ipynb\" target=\"_parent\"><img src=\"https://colab.research.google.com/assets/colab-badge.svg\" alt=\"Open In Colab\"/></a>"
      ]
    },
    {
      "cell_type": "markdown",
      "source": [
        "# HW2 MFIN7037 QUANTATITIVE TRADING\n",
        "- JIAYUN HUANG 3035877531\n",
        "- TIANCI XIE 3035942269\n",
        "- YIJIE PAN 3035914341\n",
        "\n"
      ],
      "metadata": {
        "id": "j5ZvemIk-Yfk"
      }
    },
    {
      "cell_type": "markdown",
      "source": [
        "## 1.What is the reason why the option-to-volume ratio may or may not predict future stock returns? \n",
        "---\n",
        "\n",
        "The option-to-volume ration may predict future return with negative relation, which is driven by the short-sale costs in equity markets, which make option markets an attractive venue for traders with negative news. High option-to-volume rate is indicative of negative private information. Thus, firms with high option to volume ratio tends to underperform market. To sum up, it is due to the role of options in ameliorating short-sale costs.\n"
      ],
      "metadata": {
        "id": "YQDmt9L9TPvp"
      }
    },
    {
      "cell_type": "markdown",
      "source": [
        "## 2.  Conceptual questions\n",
        "---\n",
        "\n",
        "### a. Why would someone prefer to trade in options rather than stocks to implement a short? Why would someone prefer to short the stock rather than trade an option? \n",
        "\n",
        ">Option:  First, options have embedded leverage, which might give a higher return with appropriate strategy. Second, from the risk premium perspective, options provide hedging for the overall portfolio. With long position in option the downside risk is limited. For short selling, because of its mechanism of collateral and short rebate, there is higher cost.\n",
        "\n",
        "\n",
        ">Short selling: For options, with the sophistication of its trading mechanics, it will be harder to calculate its fundamental value, which might be related to modelling error, and there is larger transaction costs since it’s actually less liquid, and thus less room for error. Therefore, some traders prefer short selling"
      ],
      "metadata": {
        "id": "NjLaocJ-7_Ui"
      }
    },
    {
      "cell_type": "markdown",
      "source": [
        "### b. How does institutional ownership affect the lendable supply of securities? Are there more passive institutional owners of large stocks or small stocks? Thus, are short-sale constraints larger for small stocks or big stocks?\n",
        "\n",
        ">Generally, institutional ownership appears to be a more passive ownership and thus it exhibits an increase of lendable supply of securities. However, with the regulation of institution, there is a limit for the total supply of securities. \n",
        "\n",
        ">There are more passive institutional owners of large stocks, thus there are larger short-sale constraints for small stocks since the supply of small stocks for short sell is smaller and the liquidity is smaller. "
      ],
      "metadata": {
        "id": "EF1mGkm5ARma"
      }
    },
    {
      "cell_type": "markdown",
      "source": [
        "### c. Would you expect the returns of this strategy to be greater for the equal-weighted or value-weighted portfolio?\n",
        "\n",
        ">The equal weighted portfolio is expected to perform higher return since relatively it gives a larger weight to small stock. Small stocks bear higher short-sale constraints, so the effect of option-to-volume ratio is stronger and thus equal-weight  portfolio based on this strategy performs better."
      ],
      "metadata": {
        "id": "4cJfiDRBAlQx"
      }
    },
    {
      "cell_type": "markdown",
      "source": [
        "## 3. Back testing\n",
        "---"
      ],
      "metadata": {
        "id": "hBhR190HKbOE"
      }
    },
    {
      "cell_type": "code",
      "execution_count": null,
      "metadata": {
        "id": "QyknNSjR-cZB"
      },
      "outputs": [],
      "source": [
        "import pandas as pd\n",
        "import numpy as np\n",
        "import os"
      ]
    },
    {
      "cell_type": "code",
      "source": [
        "from google.colab import drive\n",
        "drive.mount('/content/drive')"
      ],
      "metadata": {
        "colab": {
          "base_uri": "https://localhost:8080/"
        },
        "id": "gsmUL97i-fpv",
        "outputId": "3ba8f82e-e847-42b0-fa7a-1be563d10736"
      },
      "execution_count": null,
      "outputs": [
        {
          "output_type": "stream",
          "name": "stdout",
          "text": [
            "Mounted at /content/drive\n"
          ]
        }
      ]
    },
    {
      "cell_type": "code",
      "source": [
        "os.chdir('/content/drive/MyDrive/data')\n",
        "df1 = pd.read_parquet('msf_delisting_adjusted.parquet')\n",
        "df1['year'] = df1['yearmonth'].apply(lambda x:str(x)[:4])\n",
        "df1 = df1[(df1['prc_lag1']>1)&(df1['year']=='2010') & ((df1['hexcd']==1)|(df1['hexcd']==2)|(df1['hexcd']==3))]"
      ],
      "metadata": {
        "id": "z8BDhj5k-rF_"
      },
      "execution_count": null,
      "outputs": []
    },
    {
      "cell_type": "code",
      "source": [
        "df2 = pd.read_parquet('hw2_option_to_stock_volume_ratio.parquet')"
      ],
      "metadata": {
        "id": "FVLj8ieR_mjb"
      },
      "execution_count": null,
      "outputs": []
    },
    {
      "cell_type": "code",
      "source": [
        "df = df1.merge(df2,left_on=['date','permno'],right_on=['month_end','permno'],how='inner')\n",
        "df['volume_ratio'] = df['option_volume']/df['vol']\n",
        "df['volume_ratio_lag1'] = df['volume_ratio'].shift(1)\n",
        "df = df[['permno','date','ret','volume_ratio_lag1']]"
      ],
      "metadata": {
        "id": "P8wTlUxOF8UR"
      },
      "execution_count": null,
      "outputs": []
    },
    {
      "cell_type": "code",
      "source": [
        "df = df[['permno','date','ret','volume_ratio_lag1']]\n",
        "df['bin'] = df.groupby('date')['volume_ratio_lag1'].apply(lambda g:np.ceil(g.rank()/len(g)*10))\n",
        "df = df.dropna()"
      ],
      "metadata": {
        "id": "gHsbp-71IAwM"
      },
      "execution_count": null,
      "outputs": []
    },
    {
      "cell_type": "code",
      "source": [
        "portfolios = ( df\n",
        ".groupby(['date', 'bin']) .apply(\n",
        "lambda g: pd.Series({\n",
        "'portfolio': g['ret'].mean()\n",
        "\n",
        "}) )\n",
        ").reset_index()\n"
      ],
      "metadata": {
        "id": "h1riPbwDK1oE"
      },
      "execution_count": null,
      "outputs": []
    },
    {
      "cell_type": "code",
      "source": [
        "ax = df.groupby('bin')['ret'].apply(np.mean).plot(kind='bar',figsize=(8,5))"
      ],
      "metadata": {
        "colab": {
          "base_uri": "https://localhost:8080/",
          "height": 346
        },
        "id": "l_43uH8YLg2P",
        "outputId": "7b738f97-39b1-4058-f588-a181b413fad7"
      },
      "execution_count": null,
      "outputs": [
        {
          "output_type": "display_data",
          "data": {
            "text/plain": [
              "<Figure size 576x360 with 1 Axes>"
            ],
            "image/png": "[encoded data removed]"
          },
          "metadata": {
            "needs_background": "light"
          }
        }
      ]
    },
    {
      "cell_type": "code",
      "source": [
        "portfolios['bin'] = portfolios['bin'].apply(int)\n",
        "portfolios2 = pd.merge(\n",
        "portfolios[portfolios['bin']==1], portfolios[portfolios['bin']==10], suffixes=['_long', '_short'], on='date')\n"
      ],
      "metadata": {
        "id": "DgZO2-SXLnaS"
      },
      "execution_count": null,
      "outputs": []
    },
    {
      "cell_type": "code",
      "source": [
        "portfolios2['strategy'] = portfolios2['portfolio_long'] - portfolios2['portfolio_short']\n",
        "portfolios2['cum'] = (portfolios2['strategy'] + 1).cumprod() - 1\n",
        "# 回测表现 portfolios2\\\n",
        "portfolios2.assign(date=pd.to_datetime(portfolios2['date'])).assign(cum=portfolios2['cum']+1).plot(x='date', y=['cum'],figsize=(8,5)).grid(axis='y')"
      ],
      "metadata": {
        "colab": {
          "base_uri": "https://localhost:8080/",
          "height": 346
        },
        "id": "JjTYX6IXL9kl",
        "outputId": "cf565335-b8e0-4e00-f478-ffd60c3b9b62"
      },
      "execution_count": null,
      "outputs": [
        {
          "output_type": "display_data",
          "data": {
            "text/plain": [
              "<Figure size 576x360 with 1 Axes>"
            ],
            "image/png": "[encoded data removed]"
          },
          "metadata": {
            "needs_background": "light"
          }
        }
      ]
    },
    {
      "cell_type": "code",
      "source": [
        "def sharpe(x):\n",
        "    return x.mean() / x.std()\n",
        "print('mean return: ', portfolios2['strategy'].mean())\n",
        "print('sharpe ratio: ',sharpe(portfolios2['strategy']))"
      ],
      "metadata": {
        "colab": {
          "base_uri": "https://localhost:8080/"
        },
        "id": "RgepU1pKIJv3",
        "outputId": "5bfe3a85-3935-45e3-e444-bebdf1cf49e9"
      },
      "execution_count": null,
      "outputs": [
        {
          "output_type": "stream",
          "name": "stdout",
          "text": [
            "mean return:  0.004090021535744085\n",
            "sharpe ratio:  0.18611319348640493\n"
          ]
        }
      ]
    },
    {
      "cell_type": "markdown",
      "source": [
        "## 4. Economic restrictions\n",
        "---\n",
        "\n",
        "Yes. Since the effect of these economic restrictions is to filter out the relatively small stock while the small stocks are believed to perform better with this strategy which is resulted from the higher short-sale constraints of smaller stocks. "
      ],
      "metadata": {
        "id": "SARS5MaiKqjj"
      }
    },
    {
      "cell_type": "code",
      "source": [
        "df1 = pd.read_parquet('msf_delisting_adjusted.parquet')\n",
        "df1['year'] = df1['yearmonth'].apply(lambda x:str(x)[:4])\n",
        "df1 = df1[(df1['prc']>5) & (df1['prc_lag1']>1)&(df1['year']=='2010') & ((df1['hexcd']==1)|(df1['hexcd']==2)|(df1['hexcd']==3))]"
      ],
      "metadata": {
        "id": "rkz8FplhK-vc"
      },
      "execution_count": null,
      "outputs": []
    },
    {
      "cell_type": "code",
      "source": [
        "df1 = df1.reset_index(drop=True)\n",
        "df1['bin_vol'] = df1.groupby('date')['vol'].apply(lambda x: np.ceil(x.rank()/len(x)*5))\n",
        "df1['bin_mcap'] = df1.groupby('date')['mcap'].apply(lambda x: np.ceil(x.rank()/len(x)*5))"
      ],
      "metadata": {
        "id": "sPLD0A77NaPS"
      },
      "execution_count": null,
      "outputs": []
    },
    {
      "cell_type": "code",
      "source": [
        "df1 = df1[(df1['bin_vol'] != 1.0)&(df1['bin_mcap']!=1.0)]"
      ],
      "metadata": {
        "id": "ScNaRQxtOiqp"
      },
      "execution_count": null,
      "outputs": []
    },
    {
      "cell_type": "code",
      "source": [
        "df2 = pd.read_parquet('hw2_option_to_stock_volume_ratio.parquet')\n",
        "df = df1.merge(df2,left_on=['date','permno'],right_on=['month_end','permno'],how='inner')\n",
        "df['volume_ratio'] = df['option_volume']/df['vol']\n",
        "df['volume_ratio_lag1'] = df['volume_ratio'].shift(1)\n",
        "df = df[['permno','date','ret','volume_ratio_lag1']]\n",
        "df = df[['permno','date','ret','volume_ratio_lag1']]\n",
        "df['bin'] = df.groupby('date')['volume_ratio_lag1'].apply(lambda g:np.ceil(g.rank()/len(g)*10))\n",
        "df = df.dropna()\n",
        "portfolios = ( df\n",
        ".groupby(['date', 'bin']) .apply(\n",
        "lambda g: pd.Series({\n",
        "'portfolio': g['ret'].mean()\n",
        "\n",
        "}) )\n",
        ").reset_index()\n",
        "ax = df.groupby('bin')['ret'].apply(np.mean).plot(kind='bar',figsize=(8,5))"
      ],
      "metadata": {
        "colab": {
          "base_uri": "https://localhost:8080/",
          "height": 346
        },
        "id": "2R8w-C_CNaD4",
        "outputId": "fadb2683-8229-4d2a-9320-4010512336b3"
      },
      "execution_count": null,
      "outputs": [
        {
          "output_type": "display_data",
          "data": {
            "text/plain": [
              "<Figure size 576x360 with 1 Axes>"
            ],
            "image/png": "[encoded data removed]"
          },
          "metadata": {
            "needs_background": "light"
          }
        }
      ]
    },
    {
      "cell_type": "code",
      "source": [
        "portfolios['bin'] = portfolios['bin'].apply(int)\n",
        "portfolios2 = pd.merge(\n",
        "portfolios[portfolios['bin']==1], portfolios[portfolios['bin']==10], suffixes=['_long', '_short'], on='date')\n",
        "portfolios2['strategy'] = portfolios2['portfolio_long'] - portfolios2['portfolio_short']\n",
        "portfolios2['cum'] = (portfolios2['strategy'] + 1).cumprod() - 1\n",
        "# 回测表现 portfolios2\\\n",
        "portfolios2.assign(date=pd.to_datetime(portfolios2['date'])).assign(cum=portfolios2['cum']+1).plot(x='date', y=['cum'],figsize=(8,5)).grid(axis='y')\n"
      ],
      "metadata": {
        "colab": {
          "base_uri": "https://localhost:8080/",
          "height": 345
        },
        "id": "NFIkDsWgLb-h",
        "outputId": "947d4a63-64ce-4ec1-c228-34310bd0d49a"
      },
      "execution_count": null,
      "outputs": [
        {
          "output_type": "display_data",
          "data": {
            "text/plain": [
              "<Figure size 576x360 with 1 Axes>"
            ],
            "image/png": "[encoded data removed]"
          },
          "metadata": {
            "needs_background": "light"
          }
        }
      ]
    },
    {
      "cell_type": "code",
      "source": [
        "def sharpe(x):\n",
        "    return x.mean() / x.std()\n",
        "print('mean return: ', portfolios2['strategy'].mean())\n",
        "print('sharpe ratio: ',sharpe(portfolios2['strategy']))"
      ],
      "metadata": {
        "colab": {
          "base_uri": "https://localhost:8080/"
        },
        "id": "LtFuwvZfPINg",
        "outputId": "c7e89687-6547-4d3c-d792-aa76c61342d4"
      },
      "execution_count": null,
      "outputs": [
        {
          "output_type": "stream",
          "name": "stdout",
          "text": [
            "mean return:  0.002394466764050305\n",
            "sharpe ratio:  0.13047915560983886\n"
          ]
        }
      ]
    },
    {
      "cell_type": "markdown",
      "source": [
        "## 5. Risk analysis\n"
      ],
      "metadata": {
        "id": "oOAVpL9JS4iz"
      }
    },
    {
      "cell_type": "code",
      "source": [
        "ff5 = pd.read_parquet('ff_five_factor_monthly.parquet')"
      ],
      "metadata": {
        "id": "hFMWBwKYXMuW"
      },
      "execution_count": null,
      "outputs": []
    },
    {
      "cell_type": "code",
      "source": [
        "# regression to risk benchmark\n",
        "\n",
        "ff5 = pd.read_parquet('ff_five_factor_monthly.parquet')\\\n",
        "    .groupby('month_end')\\\n",
        "    .apply(lambda g: (g+1).prod() - 1)\\\n",
        "    .reset_index()\n",
        "\n",
        "ff5.head()\n",
        "\n",
        "ports_with_ff5 = pd.merge(portfolios2, ff5, left_on='date',right_on='month_end',how='inner')"
      ],
      "metadata": {
        "id": "B3TGfr1fS-0m"
      },
      "execution_count": null,
      "outputs": []
    },
    {
      "cell_type": "code",
      "source": [
        "import statsmodels.formula.api as smf\n",
        "smf.ols('cum ~ 1 + hml + mkt_rf + smb + cma + rmw', data=ports_with_ff5).fit().summary()"
      ],
      "metadata": {
        "id": "MlkTzSCwXYh7",
        "colab": {
          "base_uri": "https://localhost:8080/",
          "height": 616
        },
        "outputId": "a1833407-aa22-455b-b9f9-41be46f681ba"
      },
      "execution_count": null,
      "outputs": [
        {
          "output_type": "stream",
          "name": "stderr",
          "text": [
            "/usr/local/lib/python3.7/dist-packages/statsmodels/tools/_testing.py:19: FutureWarning: pandas.util.testing is deprecated. Use the functions in the public API at pandas.testing instead.\n",
            "  import pandas.util.testing as tm\n",
            "/usr/local/lib/python3.7/dist-packages/scipy/stats/stats.py:1535: UserWarning: kurtosistest only valid for n>=20 ... continuing anyway, n=12\n",
            "  \"anyway, n=%i\" % int(n))\n"
          ]
        },
        {
          "output_type": "execute_result",
          "data": {
            "text/plain": [
              "<class 'statsmodels.iolib.summary.Summary'>\n",
              "\"\"\"\n",
              "                            OLS Regression Results                            \n",
              "==============================================================================\n",
              "Dep. Variable:                    cum   R-squared:                       0.609\n",
              "Model:                            OLS   Adj. R-squared:                  0.282\n",
              "Method:                 Least Squares   F-statistic:                     1.865\n",
              "Date:                Tue, 03 May 2022   Prob (F-statistic):              0.235\n",
              "Time:                        15:29:13   Log-Likelihood:                 34.625\n",
              "No. Observations:                  12   AIC:                            -57.25\n",
              "Df Residuals:                       6   BIC:                            -54.34\n",
              "Df Model:                           5                                         \n",
              "Covariance Type:            nonrobust                                         \n",
              "==============================================================================\n",
              "                 coef    std err          t      P>|t|      [0.025      0.975]\n",
              "------------------------------------------------------------------------------\n",
              "Intercept      0.0041      0.008      0.506      0.631      -0.016       0.024\n",
              "hml           -0.8631      0.388     -2.223      0.068      -1.813       0.087\n",
              "mkt_rf        -0.1342      0.141     -0.953      0.378      -0.479       0.210\n",
              "smb           -0.6840      0.408     -1.677      0.145      -1.682       0.314\n",
              "cma            2.1555      1.007      2.141      0.076      -0.308       4.619\n",
              "rmw            0.0574      0.691      0.083      0.937      -1.633       1.748\n",
              "==============================================================================\n",
              "Omnibus:                        1.041   Durbin-Watson:                   2.015\n",
              "Prob(Omnibus):                  0.594   Jarque-Bera (JB):                0.770\n",
              "Skew:                           0.548   Prob(JB):                        0.680\n",
              "Kurtosis:                       2.418   Cond. No.                         201.\n",
              "==============================================================================\n",
              "\n",
              "Warnings:\n",
              "[1] Standard Errors assume that the covariance matrix of the errors is correctly specified.\n",
              "\"\"\""
            ],
            "text/html": [
              "<table class=\"simpletable\">\n",
              "<caption>OLS Regression Results</caption>\n",
              "<tr>\n",
              "  <th>Dep. Variable:</th>           <td>cum</td>       <th>  R-squared:         </th> <td>   0.609</td>\n",
              "</tr>\n",
              "<tr>\n",
              "  <th>Model:</th>                   <td>OLS</td>       <th>  Adj. R-squared:    </th> <td>   0.282</td>\n",
              "</tr>\n",
              "<tr>\n",
              "  <th>Method:</th>             <td>Least Squares</td>  <th>  F-statistic:       </th> <td>   1.865</td>\n",
              "</tr>\n",
              "<tr>\n",
              "  <th>Date:</th>             <td>Tue, 03 May 2022</td> <th>  Prob (F-statistic):</th>  <td> 0.235</td> \n",
              "</tr>\n",
              "<tr>\n",
              "  <th>Time:</th>                 <td>15:29:13</td>     <th>  Log-Likelihood:    </th> <td>  34.625</td>\n",
              "</tr>\n",
              "<tr>\n",
              "  <th>No. Observations:</th>      <td>    12</td>      <th>  AIC:               </th> <td>  -57.25</td>\n",
              "</tr>\n",
              "<tr>\n",
              "  <th>Df Residuals:</th>          <td>     6</td>      <th>  BIC:               </th> <td>  -54.34</td>\n",
              "</tr>\n",
              "<tr>\n",
              "  <th>Df Model:</th>              <td>     5</td>      <th>                     </th>     <td> </td>   \n",
              "</tr>\n",
              "<tr>\n",
              "  <th>Covariance Type:</th>      <td>nonrobust</td>    <th>                     </th>     <td> </td>   \n",
              "</tr>\n",
              "</table>\n",
              "<table class=\"simpletable\">\n",
              "<tr>\n",
              "      <td></td>         <th>coef</th>     <th>std err</th>      <th>t</th>      <th>P>|t|</th>  <th>[0.025</th>    <th>0.975]</th>  \n",
              "</tr>\n",
              "<tr>\n",
              "  <th>Intercept</th> <td>    0.0041</td> <td>    0.008</td> <td>    0.506</td> <td> 0.631</td> <td>   -0.016</td> <td>    0.024</td>\n",
              "</tr>\n",
              "<tr>\n",
              "  <th>hml</th>       <td>   -0.8631</td> <td>    0.388</td> <td>   -2.223</td> <td> 0.068</td> <td>   -1.813</td> <td>    0.087</td>\n",
              "</tr>\n",
              "<tr>\n",
              "  <th>mkt_rf</th>    <td>   -0.1342</td> <td>    0.141</td> <td>   -0.953</td> <td> 0.378</td> <td>   -0.479</td> <td>    0.210</td>\n",
              "</tr>\n",
              "<tr>\n",
              "  <th>smb</th>       <td>   -0.6840</td> <td>    0.408</td> <td>   -1.677</td> <td> 0.145</td> <td>   -1.682</td> <td>    0.314</td>\n",
              "</tr>\n",
              "<tr>\n",
              "  <th>cma</th>       <td>    2.1555</td> <td>    1.007</td> <td>    2.141</td> <td> 0.076</td> <td>   -0.308</td> <td>    4.619</td>\n",
              "</tr>\n",
              "<tr>\n",
              "  <th>rmw</th>       <td>    0.0574</td> <td>    0.691</td> <td>    0.083</td> <td> 0.937</td> <td>   -1.633</td> <td>    1.748</td>\n",
              "</tr>\n",
              "</table>\n",
              "<table class=\"simpletable\">\n",
              "<tr>\n",
              "  <th>Omnibus:</th>       <td> 1.041</td> <th>  Durbin-Watson:     </th> <td>   2.015</td>\n",
              "</tr>\n",
              "<tr>\n",
              "  <th>Prob(Omnibus):</th> <td> 0.594</td> <th>  Jarque-Bera (JB):  </th> <td>   0.770</td>\n",
              "</tr>\n",
              "<tr>\n",
              "  <th>Skew:</th>          <td> 0.548</td> <th>  Prob(JB):          </th> <td>   0.680</td>\n",
              "</tr>\n",
              "<tr>\n",
              "  <th>Kurtosis:</th>      <td> 2.418</td> <th>  Cond. No.          </th> <td>    201.</td>\n",
              "</tr>\n",
              "</table><br/><br/>Warnings:<br/>[1] Standard Errors assume that the covariance matrix of the errors is correctly specified."
            ]
          },
          "metadata": {},
          "execution_count": 22
        }
      ]
    },
    {
      "cell_type": "markdown",
      "source": [
        "## 6. Update the analysis for the full sample period\n",
        "---\n",
        "\n",
        "The performance of the strategy plummeted in 2020. According to our analysis, it is due to the boom of stock option volume in 2020, resulting from the increased participation of individual investors, especially in call option. High call option volume resulted in high total option volume and thus high option-to-volume ratio. According to the strategy, we short the stocks with high option-to-volume ratio for the reason that it might indicate negative private information. However, a high option-to-volume ratio in 2020 might be indicator for the popularity of the stock and may instead bears positive information signal. Hence the strategy doesn't perform as well as previously anymore. "
      ],
      "metadata": {
        "id": "7UYgMI3na9Na"
      }
    },
    {
      "cell_type": "code",
      "source": [
        "df1 = pd.read_parquet('msf_delisting_adjusted.parquet')\n",
        "df1['year'] = df1['yearmonth'].apply(lambda x:str(x)[:4])\n",
        "df1['year'] = df1['year'].apply(lambda x:int(x))\n",
        "df1 = df1[(df1['prc']>5) & (df1['prc_lag1']>1)&(df1['year']>2010) & ((df1['hexcd']==1)|(df1['hexcd']==2)|(df1['hexcd']==3))]\n",
        "\n",
        "df1['bin_vol'] = df1.groupby('date')['vol'].apply(lambda x: np.ceil(x.rank()/len(x)*5)).reset_index(drop=True)\n",
        "df1['bin_mcap'] = df1.groupby('date')['mcap'].apply(lambda x: np.ceil(x.rank()/len(x)*5)).reset_index(drop=True)\n",
        "\n",
        "df1 = df1[(df1['bin_vol'] != 1.0)&(df1['bin_mcap']!=1.0)]\n",
        "df2 = pd.read_parquet('hw2_option_to_stock_volume_ratio.parquet')\n",
        "df = df1.merge(df2,left_on=['date','permno'],right_on=['month_end','permno'],how='inner')\n",
        "df['volume_ratio'] = df['option_volume']/df['vol']\n",
        "df['volume_ratio_lag1'] = df['volume_ratio'].shift(1)\n",
        "df = df[['permno','date','ret','volume_ratio_lag1']]\n",
        "df = df[['permno','date','ret','volume_ratio_lag1']]\n",
        "df['bin'] = df.groupby('date')['volume_ratio_lag1'].apply(lambda g:np.ceil(g.rank()/len(g)*10))\n",
        "df = df.dropna()\n",
        "portfolios = ( df\n",
        ".groupby(['date', 'bin']) .apply(\n",
        "lambda g: pd.Series({\n",
        "'portfolio': g['ret'].mean()\n",
        "\n",
        "}) )\n",
        ").reset_index()\n",
        "ax = df.groupby('bin')['ret'].apply(np.mean).plot(kind='bar',figsize=(8,5))\n"
      ],
      "metadata": {
        "colab": {
          "base_uri": "https://localhost:8080/",
          "height": 346
        },
        "id": "AoYooXoda7eS",
        "outputId": "c24e6507-a540-4170-fb47-bb3fd787b2df"
      },
      "execution_count": null,
      "outputs": [
        {
          "output_type": "display_data",
          "data": {
            "text/plain": [
              "<Figure size 576x360 with 1 Axes>"
            ],
            "image/png": "[encoded data removed]"
          },
          "metadata": {
            "needs_background": "light"
          }
        }
      ]
    },
    {
      "cell_type": "code",
      "source": [
        "portfolios['bin'] = portfolios['bin'].apply(int)\n",
        "portfolios2 = pd.merge(\n",
        "portfolios[portfolios['bin']==1], portfolios[portfolios['bin']==10], suffixes=['_long', '_short'], on='date')\n",
        "portfolios2['strategy'] = portfolios2['portfolio_long'] - portfolios2['portfolio_short']\n",
        "portfolios2['cum'] = (portfolios2['strategy'] + 1).cumprod() - 1\n",
        "# 回测表现 portfolios2\\\n",
        "portfolios2.assign(date=pd.to_datetime(portfolios2['date'])).assign(cum=portfolios2['cum']+1).plot(x='date', y=['cum'],figsize=(8,5)).grid(axis='y')"
      ],
      "metadata": {
        "colab": {
          "base_uri": "https://localhost:8080/",
          "height": 334
        },
        "id": "MPZe1sbM9GAO",
        "outputId": "0fef93a7-96e7-42cd-af9e-e8aeab77d30f"
      },
      "execution_count": null,
      "outputs": [
        {
          "output_type": "display_data",
          "data": {
            "text/plain": [
              "<Figure size 576x360 with 1 Axes>"
            ],
            "image/png": "[encoded data removed]"
          },
          "metadata": {
            "needs_background": "light"
          }
        }
      ]
    },
    {
      "cell_type": "code",
      "source": [
        "def sharpe(x):\n",
        "    return x.mean() / x.std()\n",
        "print('mean return: ', portfolios2['strategy'].mean())\n",
        "print('sharpe ratio: ',sharpe(portfolios2['strategy']))"
      ],
      "metadata": {
        "colab": {
          "base_uri": "https://localhost:8080/"
        },
        "id": "3ft6d9G8_KCw",
        "outputId": "be125bd7-73f2-4360-82d9-e2603d1e43c9"
      },
      "execution_count": null,
      "outputs": [
        {
          "output_type": "stream",
          "name": "stdout",
          "text": [
            "mean return:  5.996085953635439e-05\n",
            "sharpe ratio:  0.0018229730696171908\n"
          ]
        }
      ]
    },
    {
      "cell_type": "code",
      "source": [
        "df2.groupby('month_end')['option_volume'].sum().plot(figsize = (8,5))"
      ],
      "metadata": {
        "colab": {
          "base_uri": "https://localhost:8080/",
          "height": 363
        },
        "id": "yjalRUH9cZqj",
        "outputId": "f346de4c-6355-465c-b043-4d66c4914741"
      },
      "execution_count": null,
      "outputs": [
        {
          "output_type": "execute_result",
          "data": {
            "text/plain": [
              "<matplotlib.axes._subplots.AxesSubplot at 0x7fb18baf71d0>"
            ]
          },
          "metadata": {},
          "execution_count": 196
        },
        {
          "output_type": "display_data",
          "data": {
            "text/plain": [
              "<Figure size 576x360 with 1 Axes>"
            ],
            "image/png": "[encoded data removed]"
          },
          "metadata": {
            "needs_background": "light"
          }
        }
      ]
    },
    {
      "cell_type": "markdown",
      "source": [
        "## 7. Modulating the strategy to recover predictability\n",
        "---\n",
        "\n",
        "We believe what make the strategy not work is the increacing amount of the call option. So the the volitility is taken into consideration because the stock with higher volitility implies higher return, which may be the motivation for investors to use call option for leveraging the their investment, seeking higher return if their believed the stock will go upward. Here we consider the standard deviation of return as volitility. Volitility makes the option-volume ratio weaker for the strategy if it is large since the option-volume ratio is based on the thought of short-sale while higher volitility(larger amount of call options) will work against. The back testing seems better."
      ],
      "metadata": {
        "id": "xWNz33sE7N0N"
      }
    },
    {
      "cell_type": "code",
      "source": [
        "df1 = pd.read_parquet('msf_delisting_adjusted.parquet')\n",
        "df1['year'] = df1['yearmonth'].apply(lambda x:str(x)[:4])\n",
        "df1['year'] = df1['year'].apply(lambda x:int(x))\n",
        "df1 = df1[(df1['prc']>5) & (df1['prc_lag1']>1)&(df1['year']>2010) & ((df1['hexcd']==1)|(df1['hexcd']==2)|(df1['hexcd']==3))]\n",
        "\n",
        "df1['bin_vol'] = df1.groupby('date')['vol'].apply(lambda x: np.ceil(x.rank()/len(x)*5)).reset_index(drop=True)\n",
        "df1['bin_mcap'] = df1.groupby('date')['mcap'].apply(lambda x: np.ceil(x.rank()/len(x)*5)).reset_index(drop=True)"
      ],
      "metadata": {
        "id": "G5HexAyPpB0H"
      },
      "execution_count": null,
      "outputs": []
    },
    {
      "cell_type": "code",
      "source": [
        "df1 = df1[(df1['bin_vol'] != 1.0)]\n",
        "df2 = pd.read_parquet('hw2_option_to_stock_volume_ratio.parquet')\n",
        "df = df1.merge(df2,left_on=['date','permno'],right_on=['month_end','permno'],how='inner')"
      ],
      "metadata": {
        "id": "CK6fA9kor96X"
      },
      "execution_count": null,
      "outputs": []
    },
    {
      "cell_type": "code",
      "source": [
        "df['volume_ratio'] = df['option_volume']/df['vol']\n",
        "df['volume_ratio_lag1'] = df['volume_ratio'].shift(1)\n",
        "df = df[['permno','date','ret','volume_ratio_lag1','bin_mcap','bin_vol']]\n",
        "df['bin1'] = df.groupby('date')['volume_ratio_lag1'].apply(lambda g:np.ceil(g.rank()/len(g)*10))\n",
        "temp = df.groupby('permno')['ret'].std().reset_index()\n",
        "temp\n",
        "df =  df.merge(temp,on='permno',how='left',suffixes=['','std'])\n",
        "df['bin_std'] = df.groupby('date')['retstd'].apply(lambda g:np.ceil(g.rank()/len(g)*10))\n",
        "df = df.dropna()"
      ],
      "metadata": {
        "id": "9nafq7BAsIUT"
      },
      "execution_count": null,
      "outputs": []
    },
    {
      "cell_type": "code",
      "source": [
        "# REbuild bin based on volitility and option-volume ratio\n",
        "df['bin'] = df['bin1']-df['bin_std']\n",
        "df['bin'] = df.groupby('date')['bin'].apply(lambda g:np.ceil(g.rank()/len(g)*3))\n",
        "df.head()"
      ],
      "metadata": {
        "colab": {
          "base_uri": "https://localhost:8080/",
          "height": 204
        },
        "id": "k7dJ-WiGw-IQ",
        "outputId": "3b98dd2c-a8a5-427f-88fd-53f92c0c80ac"
      },
      "execution_count": null,
      "outputs": [
        {
          "output_type": "execute_result",
          "data": {
            "text/plain": [
              "    permno        date       ret  volume_ratio_lag1  bin_mcap  bin_vol  bin1  \\\n",
              "1  78829.0  2011-02-28 -0.018942           0.002317       3.0      4.0   1.0   \n",
              "2  78829.0  2011-03-31 -0.058175           0.000202       2.0      4.0   1.0   \n",
              "3  78829.0  2011-04-30  0.126723           0.000736       2.0      4.0   1.0   \n",
              "4  78829.0  2011-05-31  0.013064           0.003349       2.0      4.0   2.0   \n",
              "5  78829.0  2011-06-30 -0.013482           0.000000       2.0      4.0   1.0   \n",
              "\n",
              "     retstd  bin_std  bin  \n",
              "1  0.084988      4.0  1.0  \n",
              "2  0.084988      4.0  1.0  \n",
              "3  0.084988      4.0  1.0  \n",
              "4  0.084988      4.0  2.0  \n",
              "5  0.084988      4.0  1.0  "
            ],
            "text/html": [
              "\n",
              "  <div id=\"df-8a5b8c3a-77d8-4136-a05b-afb2d259733f\">\n",
              "    <div class=\"colab-df-container\">\n",
              "      <div>\n",
              "<style scoped>\n",
              "    .dataframe tbody tr th:only-of-type {\n",
              "        vertical-align: middle;\n",
              "    }\n",
              "\n",
              "    .dataframe tbody tr th {\n",
              "        vertical-align: top;\n",
              "    }\n",
              "\n",
              "    .dataframe thead th {\n",
              "        text-align: right;\n",
              "    }\n",
              "</style>\n",
              "<table border=\"1\" class=\"dataframe\">\n",
              "  <thead>\n",
              "    <tr style=\"text-align: right;\">\n",
              "      <th></th>\n",
              "      <th>permno</th>\n",
              "      <th>date</th>\n",
              "      <th>ret</th>\n",
              "      <th>volume_ratio_lag1</th>\n",
              "      <th>bin_mcap</th>\n",
              "      <th>bin_vol</th>\n",
              "      <th>bin1</th>\n",
              "      <th>retstd</th>\n",
              "      <th>bin_std</th>\n",
              "      <th>bin</th>\n",
              "    </tr>\n",
              "  </thead>\n",
              "  <tbody>\n",
              "    <tr>\n",
              "      <th>1</th>\n",
              "      <td>78829.0</td>\n",
              "      <td>2011-02-28</td>\n",
              "      <td>-0.018942</td>\n",
              "      <td>0.002317</td>\n",
              "      <td>3.0</td>\n",
              "      <td>4.0</td>\n",
              "      <td>1.0</td>\n",
              "      <td>0.084988</td>\n",
              "      <td>4.0</td>\n",
              "      <td>1.0</td>\n",
              "    </tr>\n",
              "    <tr>\n",
              "      <th>2</th>\n",
              "      <td>78829.0</td>\n",
              "      <td>2011-03-31</td>\n",
              "      <td>-0.058175</td>\n",
              "      <td>0.000202</td>\n",
              "      <td>2.0</td>\n",
              "      <td>4.0</td>\n",
              "      <td>1.0</td>\n",
              "      <td>0.084988</td>\n",
              "      <td>4.0</td>\n",
              "      <td>1.0</td>\n",
              "    </tr>\n",
              "    <tr>\n",
              "      <th>3</th>\n",
              "      <td>78829.0</td>\n",
              "      <td>2011-04-30</td>\n",
              "      <td>0.126723</td>\n",
              "      <td>0.000736</td>\n",
              "      <td>2.0</td>\n",
              "      <td>4.0</td>\n",
              "      <td>1.0</td>\n",
              "      <td>0.084988</td>\n",
              "      <td>4.0</td>\n",
              "      <td>1.0</td>\n",
              "    </tr>\n",
              "    <tr>\n",
              "      <th>4</th>\n",
              "      <td>78829.0</td>\n",
              "      <td>2011-05-31</td>\n",
              "      <td>0.013064</td>\n",
              "      <td>0.003349</td>\n",
              "      <td>2.0</td>\n",
              "      <td>4.0</td>\n",
              "      <td>2.0</td>\n",
              "      <td>0.084988</td>\n",
              "      <td>4.0</td>\n",
              "      <td>2.0</td>\n",
              "    </tr>\n",
              "    <tr>\n",
              "      <th>5</th>\n",
              "      <td>78829.0</td>\n",
              "      <td>2011-06-30</td>\n",
              "      <td>-0.013482</td>\n",
              "      <td>0.000000</td>\n",
              "      <td>2.0</td>\n",
              "      <td>4.0</td>\n",
              "      <td>1.0</td>\n",
              "      <td>0.084988</td>\n",
              "      <td>4.0</td>\n",
              "      <td>1.0</td>\n",
              "    </tr>\n",
              "  </tbody>\n",
              "</table>\n",
              "</div>\n",
              "      <button class=\"colab-df-convert\" onclick=\"convertToInteractive('df-8a5b8c3a-77d8-4136-a05b-afb2d259733f')\"\n",
              "              title=\"Convert this dataframe to an interactive table.\"\n",
              "              style=\"display:none;\">\n",
              "        \n",
              "  <svg xmlns=\"http://www.w3.org/2000/svg\" height=\"24px\"viewBox=\"0 0 24 24\"\n",
              "       width=\"24px\">\n",
              "    <path d=\"M0 0h24v24H0V0z\" fill=\"none\"/>\n",
              "    <path d=\"M18.56 5.44l.94 2.06.94-2.06 2.06-.94-2.06-.94-.94-2.06-.94 2.06-2.06.94zm-11 1L8.5 8.5l.94-2.06 2.06-.94-2.06-.94L8.5 2.5l-.94 2.06-2.06.94zm10 10l.94 2.06.94-2.06 2.06-.94-2.06-.94-.94-2.06-.94 2.06-2.06.94z\"/><path d=\"M17.41 7.96l-1.37-1.37c-.4-.4-.92-.59-1.43-.59-.52 0-1.04.2-1.43.59L10.3 9.45l-7.72 7.72c-.78.78-.78 2.05 0 2.83L4 21.41c.39.39.9.59 1.41.59.51 0 1.02-.2 1.41-.59l7.78-7.78 2.81-2.81c.8-.78.8-2.07 0-2.86zM5.41 20L4 18.59l7.72-7.72 1.47 1.35L5.41 20z\"/>\n",
              "  </svg>\n",
              "      </button>\n",
              "      \n",
              "  <style>\n",
              "    .colab-df-container {\n",
              "      display:flex;\n",
              "      flex-wrap:wrap;\n",
              "      gap: 12px;\n",
              "    }\n",
              "\n",
              "    .colab-df-convert {\n",
              "      background-color: #E8F0FE;\n",
              "      border: none;\n",
              "      border-radius: 50%;\n",
              "      cursor: pointer;\n",
              "      display: none;\n",
              "      fill: #1967D2;\n",
              "      height: 32px;\n",
              "      padding: 0 0 0 0;\n",
              "      width: 32px;\n",
              "    }\n",
              "\n",
              "    .colab-df-convert:hover {\n",
              "      background-color: #E2EBFA;\n",
              "      box-shadow: 0px 1px 2px rgba(60, 64, 67, 0.3), 0px 1px 3px 1px rgba(60, 64, 67, 0.15);\n",
              "      fill: #174EA6;\n",
              "    }\n",
              "\n",
              "    [theme=dark] .colab-df-convert {\n",
              "      background-color: #3B4455;\n",
              "      fill: #D2E3FC;\n",
              "    }\n",
              "\n",
              "    [theme=dark] .colab-df-convert:hover {\n",
              "      background-color: #434B5C;\n",
              "      box-shadow: 0px 1px 3px 1px rgba(0, 0, 0, 0.15);\n",
              "      filter: drop-shadow(0px 1px 2px rgba(0, 0, 0, 0.3));\n",
              "      fill: #FFFFFF;\n",
              "    }\n",
              "  </style>\n",
              "\n",
              "      <script>\n",
              "        const buttonEl =\n",
              "          document.querySelector('#df-8a5b8c3a-77d8-4136-a05b-afb2d259733f button.colab-df-convert');\n",
              "        buttonEl.style.display =\n",
              "          google.colab.kernel.accessAllowed ? 'block' : 'none';\n",
              "\n",
              "        async function convertToInteractive(key) {\n",
              "          const element = document.querySelector('#df-8a5b8c3a-77d8-4136-a05b-afb2d259733f');\n",
              "          const dataTable =\n",
              "            await google.colab.kernel.invokeFunction('convertToInteractive',\n",
              "                                                     [key], {});\n",
              "          if (!dataTable) return;\n",
              "\n",
              "          const docLinkHtml = 'Like what you see? Visit the ' +\n",
              "            '<a target=\"_blank\" href=https://colab.research.google.com/notebooks/data_table.ipynb>data table notebook</a>'\n",
              "            + ' to learn more about interactive tables.';\n",
              "          element.innerHTML = '';\n",
              "          dataTable['output_type'] = 'display_data';\n",
              "          await google.colab.output.renderOutput(dataTable, element);\n",
              "          const docLink = document.createElement('div');\n",
              "          docLink.innerHTML = docLinkHtml;\n",
              "          element.appendChild(docLink);\n",
              "        }\n",
              "      </script>\n",
              "    </div>\n",
              "  </div>\n",
              "  "
            ]
          },
          "metadata": {},
          "execution_count": 206
        }
      ]
    },
    {
      "cell_type": "code",
      "source": [
        "portfolios = ( df\n",
        ".groupby(['date', 'bin']) .apply(\n",
        "lambda g: pd.Series({\n",
        "'portfolio': g['ret'].mean()\n",
        "\n",
        "}) )\n",
        ").reset_index()\n",
        "ax = df.groupby('bin')['ret'].apply(np.mean).plot(kind='bar',figsize=(8,5))"
      ],
      "metadata": {
        "colab": {
          "base_uri": "https://localhost:8080/",
          "height": 340
        },
        "id": "pDxm5LyOiuiO",
        "outputId": "6ddfc2ab-411c-4974-f1a0-08a94d1ba4ba"
      },
      "execution_count": null,
      "outputs": [
        {
          "output_type": "display_data",
          "data": {
            "text/plain": [
              "<Figure size 576x360 with 1 Axes>"
            ],
            "image/png": "[encoded data removed]"
          },
          "metadata": {
            "needs_background": "light"
          }
        }
      ]
    },
    {
      "cell_type": "code",
      "source": [
        "portfolios['bin'] = portfolios['bin'].apply(int)\n",
        "portfolios2 = pd.merge(\n",
        "portfolios[portfolios['bin']==1], portfolios[portfolios['bin']==3], suffixes=['_long', '_short'], on='date')\n",
        "portfolios2['strategy'] = portfolios2['portfolio_long'] - portfolios2['portfolio_short']\n",
        "portfolios2['cum'] = (portfolios2['strategy'] + 1).cumprod() - 1\n",
        "# 回测表现 portfolios2\\\n",
        "portfolios2.assign(date=pd.to_datetime(portfolios2['date'])).assign(cum=portfolios2['cum']+1).plot(x='date', y=['cum'],figsize=(8,5)).grid(axis='y')\n"
      ],
      "metadata": {
        "colab": {
          "base_uri": "https://localhost:8080/",
          "height": 334
        },
        "id": "40uiAw572TnQ",
        "outputId": "2ae9fd29-bce1-412e-b45c-193a7051f8fe"
      },
      "execution_count": null,
      "outputs": [
        {
          "output_type": "display_data",
          "data": {
            "text/plain": [
              "<Figure size 576x360 with 1 Axes>"
            ],
            "image/png": "[encoded data removed]"
          },
          "metadata": {
            "needs_background": "light"
          }
        }
      ]
    },
    {
      "cell_type": "code",
      "source": [
        "def sharpe(x):\n",
        "    return x.mean() / x.std()\n",
        "print('mean return: ', portfolios2['strategy'].mean())\n",
        "print('sharpe ratio: ',sharpe(portfolios2['strategy']))"
      ],
      "metadata": {
        "colab": {
          "base_uri": "https://localhost:8080/"
        },
        "id": "TLSXXy5t_XZb",
        "outputId": "5816a862-5a50-4e8b-fc41-006ca9f75077"
      },
      "execution_count": null,
      "outputs": [
        {
          "output_type": "stream",
          "name": "stdout",
          "text": [
            "mean return:  0.006863214866275781\n",
            "sharpe ratio:  0.2161752768274114\n"
          ]
        }
      ]
    }
  ]
}