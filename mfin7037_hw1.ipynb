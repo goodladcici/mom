{
  "cells": [
    {
      "cell_type": "markdown",
      "metadata": {
        "id": "view-in-github",
        "colab_type": "text"
      },
      "source": [
        "<a href=\"https://colab.research.google.com/github/goodladcici/mom/blob/main/mfin7037_hw1.ipynb\" target=\"_parent\"><img src=\"https://colab.research.google.com/assets/colab-badge.svg\" alt=\"Open In Colab\"/></a>"
      ]
    },
    {
      "cell_type": "markdown",
      "metadata": {
        "id": "0fba75bb"
      },
      "source": [
        "# MFIN7037  Quantitative Trading \n",
        "- JIAYUN HUANG 3035877531\n",
        "\n",
        "- TIANCI XIE 3035942269\n",
        "\n",
        "- YIJIE PAN 3035914341\n",
        "\n",
        "\n"
      ],
      "id": "0fba75bb"
    },
    {
      "cell_type": "markdown",
      "metadata": {
        "id": "M42MFqwcKsPl"
      },
      "source": [
        "## Part 1: The market model\n",
        "---\n",
        "\n"
      ],
      "id": "M42MFqwcKsPl"
    },
    {
      "cell_type": "markdown",
      "metadata": {
        "id": "6d2f3b8f"
      },
      "source": [
        "### a.\n",
        "Firstly, it is related to behavioral finance, where investors either overreact to important information or underreact to it (Subrahmanyam, 2018). Investors tend to react properly regarding to the news that confirms their beliefs, high return will continue having good performence, while underract to news that differs from their belief (Antoniou et al., 2013). As a result, stocks with good performence have strong resistance for bad news. In addition, it is suggested many investors are relying on overly simplified models, with which they make persistant forecast errors and thus lead to momentum (Hong et al., 2007). Secondly, it is a risk premium story, where investors gain return as the compenstation for market risk that they are taking, proportional to beta. "
      ],
      "id": "6d2f3b8f"
    },
    {
      "cell_type": "markdown",
      "metadata": {
        "id": "c39dcc9d"
      },
      "source": [
        "### b. \n",
        "\n",
        "Assuming it is a monthly strategy, theoretically, \n",
        ">Annualized average return  $=r_{monthly}\\times{12} = {\\frac{∑^{n}_{i=1}r_i}{n}}\\times{12}$, where n is the number of months in dataset.\n",
        "\n",
        ">Annualized volatility  $=\\sigma_{monthly} \\times \\sqrt{12} = {\\sqrt {\\frac {\\sum^{n}_{i=1}(r_{i}-{\\bar{r}})^{2}}{n}}}\\times \\sqrt{12}$, where $\\sigma$ implies standard deviation of returns\n",
        "\n",
        ">Annualized sharpe ratio $=Sharpe\\_Ratio_{monthly} \\times \\sqrt{12} = (r_{monthly}/\\sigma_{monthly})\\times \\sqrt{12}$\n",
        "\n",
        "The annualized average return, volatility and sharpe ratio are  0.06964, 0.1519 and 0.4584 respactively.\n"
      ],
      "id": "c39dcc9d"
    },
    {
      "cell_type": "code",
      "execution_count": null,
      "metadata": {
        "id": "2abbf9c3"
      },
      "outputs": [],
      "source": [
        "import pandas as pd # data frames wrangling\n",
        "import numpy as np # fast and vectorized math functions\n",
        "import statsmodels.formula.api as smf\n",
        "import os # operating system operations like check files existance"
      ],
      "id": "2abbf9c3"
    },
    {
      "cell_type": "code",
      "execution_count": null,
      "metadata": {
        "id": "_Wiz1zKpIl_4"
      },
      "outputs": [],
      "source": [
        "from google.colab import drive\n",
        "drive.mount('/content/drive')"
      ],
      "id": "_Wiz1zKpIl_4"
    },
    {
      "cell_type": "code",
      "execution_count": null,
      "metadata": {
        "id": "1368b74e"
      },
      "outputs": [],
      "source": [
        "# Set the directory\n",
        "os.chdir('/content/drive/MyDrive/data')"
      ],
      "id": "1368b74e"
    },
    {
      "cell_type": "code",
      "source": [
        "# read mkt_rf from ff_four_factor_monthly.parquet\n",
        "ff4 = pd.read_parquet('ff_four_factor_monthly.parquet')\n",
        "ff4.rename(columns = {'month_end':'date'},inplace = True)"
      ],
      "metadata": {
        "id": "r6vPAaJGogNn"
      },
      "id": "r6vPAaJGogNn",
      "execution_count": null,
      "outputs": []
    },
    {
      "cell_type": "code",
      "execution_count": null,
      "metadata": {
        "colab": {
          "base_uri": "https://localhost:8080/"
        },
        "id": "fc8d81ec",
        "outputId": "cd2ddb01-3806-4362-d5f6-87cfd72374f3"
      },
      "outputs": [
        {
          "output_type": "stream",
          "name": "stdout",
          "text": [
            "annualized sharpe ratio : 0.458373184773055\n",
            "annualized mean return : 0.06964130684901665\n",
            "annualized return volatility : 0.15193145926172957\n"
          ]
        }
      ],
      "source": [
        "def sharpe(x):\n",
        "    return x.mean() / x.std()\n",
        "\n",
        "sharpe = sharpe(ff4['mom'])\n",
        "return_mean = ff4['mom'].mean()\n",
        "return_volatility = ff4['mom'].std()\n",
        "\n",
        "print('annualized sharpe ratio : {}'.format(sharpe * 12**0.5))\n",
        "print('annualized mean return : {}'.format(return_mean*12))\n",
        "print('annualized return volatility : {}'.format(return_volatility * 12**0.5))"
      ],
      "id": "fc8d81ec"
    },
    {
      "cell_type": "markdown",
      "metadata": {
        "id": "33acb91e"
      },
      "source": [
        "### c.\n",
        "There are several reasons for the discrepancy. First, the macroeconomic factors, which vary by geography and trading window, affect the momentum return. Second, the impact of trading cost and tax are not considered during the paper's calculation of strategy return. Since the strategy is based on information 11 months, when something happened between the information collection time and trade time, the startgy is unable to cater to the change.\n",
        "\n",
        "The trading costs for AQR is likely to be lower, for the reason that they might operate as market maker, from which they can acquire trading rebate such as lower transaction cost. In addition, with more comprehensive infrastructure compared with retail traders, they might pay lower implicit trading cost such as bid-ask spread. "
      ],
      "id": "33acb91e"
    },
    {
      "cell_type": "markdown",
      "metadata": {
        "id": "f7f649a8"
      },
      "source": [
        "### d.\n",
        "For value weight strategy, the momentum goes up by -0.2542 ($\\beta_1$ ), i.e. goes down by 0.2542."
      ],
      "id": "f7f649a8"
    },
    {
      "cell_type": "markdown",
      "metadata": {
        "id": "fd1cee43"
      },
      "source": [
        "### e.\n",
        "For the regression code, please refer to the code above.\n",
        "\n",
        "The $\\beta_{1}$ is -0.2542."
      ],
      "id": "fd1cee43"
    },
    {
      "cell_type": "code",
      "execution_count": null,
      "metadata": {
        "colab": {
          "base_uri": "https://localhost:8080/",
          "height": 444
        },
        "id": "7d6b08fb",
        "outputId": "4c35b2d5-4aaf-4e0f-f3a7-841c6dc1369d",
        "scrolled": true
      },
      "outputs": [
        {
          "output_type": "execute_result",
          "data": {
            "text/plain": [
              "<class 'statsmodels.iolib.summary.Summary'>\n",
              "\"\"\"\n",
              "                            OLS Regression Results                            \n",
              "==============================================================================\n",
              "Dep. Variable:                    mom   R-squared:                       0.096\n",
              "Model:                            OLS   Adj. R-squared:                  0.095\n",
              "Method:                 Least Squares   F-statistic:                     121.0\n",
              "Date:                Tue, 12 Apr 2022   Prob (F-statistic):           7.96e-27\n",
              "Time:                        07:02:25   Log-Likelihood:                 2017.0\n",
              "No. Observations:                1147   AIC:                            -4030.\n",
              "Df Residuals:                    1145   BIC:                            -4020.\n",
              "Df Model:                           1                                         \n",
              "Covariance Type:            nonrobust                                         \n",
              "==============================================================================\n",
              "                 coef    std err          t      P>|t|      [0.025      0.975]\n",
              "------------------------------------------------------------------------------\n",
              "Intercept      0.0076      0.001      6.079      0.000       0.005       0.010\n",
              "mkt_rf        -0.2542      0.023    -11.000      0.000      -0.300      -0.209\n",
              "==============================================================================\n",
              "Omnibus:                      219.484   Durbin-Watson:                   2.004\n",
              "Prob(Omnibus):                  0.000   Jarque-Bera (JB):             1341.229\n",
              "Skew:                          -0.731   Prob(JB):                    5.70e-292\n",
              "Kurtosis:                       8.092   Cond. No.                         18.8\n",
              "==============================================================================\n",
              "\n",
              "Warnings:\n",
              "[1] Standard Errors assume that the covariance matrix of the errors is correctly specified.\n",
              "\"\"\""
            ],
            "text/html": [
              "<table class=\"simpletable\">\n",
              "<caption>OLS Regression Results</caption>\n",
              "<tr>\n",
              "  <th>Dep. Variable:</th>           <td>mom</td>       <th>  R-squared:         </th> <td>   0.096</td>\n",
              "</tr>\n",
              "<tr>\n",
              "  <th>Model:</th>                   <td>OLS</td>       <th>  Adj. R-squared:    </th> <td>   0.095</td>\n",
              "</tr>\n",
              "<tr>\n",
              "  <th>Method:</th>             <td>Least Squares</td>  <th>  F-statistic:       </th> <td>   121.0</td>\n",
              "</tr>\n",
              "<tr>\n",
              "  <th>Date:</th>             <td>Tue, 12 Apr 2022</td> <th>  Prob (F-statistic):</th> <td>7.96e-27</td>\n",
              "</tr>\n",
              "<tr>\n",
              "  <th>Time:</th>                 <td>07:02:25</td>     <th>  Log-Likelihood:    </th> <td>  2017.0</td>\n",
              "</tr>\n",
              "<tr>\n",
              "  <th>No. Observations:</th>      <td>  1147</td>      <th>  AIC:               </th> <td>  -4030.</td>\n",
              "</tr>\n",
              "<tr>\n",
              "  <th>Df Residuals:</th>          <td>  1145</td>      <th>  BIC:               </th> <td>  -4020.</td>\n",
              "</tr>\n",
              "<tr>\n",
              "  <th>Df Model:</th>              <td>     1</td>      <th>                     </th>     <td> </td>   \n",
              "</tr>\n",
              "<tr>\n",
              "  <th>Covariance Type:</th>      <td>nonrobust</td>    <th>                     </th>     <td> </td>   \n",
              "</tr>\n",
              "</table>\n",
              "<table class=\"simpletable\">\n",
              "<tr>\n",
              "      <td></td>         <th>coef</th>     <th>std err</th>      <th>t</th>      <th>P>|t|</th>  <th>[0.025</th>    <th>0.975]</th>  \n",
              "</tr>\n",
              "<tr>\n",
              "  <th>Intercept</th> <td>    0.0076</td> <td>    0.001</td> <td>    6.079</td> <td> 0.000</td> <td>    0.005</td> <td>    0.010</td>\n",
              "</tr>\n",
              "<tr>\n",
              "  <th>mkt_rf</th>    <td>   -0.2542</td> <td>    0.023</td> <td>  -11.000</td> <td> 0.000</td> <td>   -0.300</td> <td>   -0.209</td>\n",
              "</tr>\n",
              "</table>\n",
              "<table class=\"simpletable\">\n",
              "<tr>\n",
              "  <th>Omnibus:</th>       <td>219.484</td> <th>  Durbin-Watson:     </th> <td>   2.004</td> \n",
              "</tr>\n",
              "<tr>\n",
              "  <th>Prob(Omnibus):</th> <td> 0.000</td>  <th>  Jarque-Bera (JB):  </th> <td>1341.229</td> \n",
              "</tr>\n",
              "<tr>\n",
              "  <th>Skew:</th>          <td>-0.731</td>  <th>  Prob(JB):          </th> <td>5.70e-292</td>\n",
              "</tr>\n",
              "<tr>\n",
              "  <th>Kurtosis:</th>      <td> 8.092</td>  <th>  Cond. No.          </th> <td>    18.8</td> \n",
              "</tr>\n",
              "</table><br/><br/>Warnings:<br/>[1] Standard Errors assume that the covariance matrix of the errors is correctly specified."
            ]
          },
          "metadata": {},
          "execution_count": 7
        }
      ],
      "source": [
        "# value weight regression \n",
        "smf.ols('mom ~ 1 + mkt_rf',data=ff4).fit().summary()"
      ],
      "id": "7d6b08fb"
    },
    {
      "cell_type": "markdown",
      "metadata": {
        "id": "5128300a"
      },
      "source": [
        "### f.\n",
        "Alpha denotes the excess return that an active portfolio manager achieves above the benchmarks. It is calculated as the percent by which the investment beat expectation. \n",
        "\n",
        "The annualized extra return is 9.12% ($12\\times α$).\n"
      ],
      "id": "5128300a"
    },
    {
      "cell_type": "markdown",
      "metadata": {
        "id": "a1306207"
      },
      "source": [
        "### g.\n",
        "t value for $\\beta_1$ to market is -11   , t value for $\\alpha$ is 6.079, which are statistically significant.\n"
      ],
      "id": "a1306207"
    },
    {
      "cell_type": "markdown",
      "metadata": {
        "id": "9e27219d"
      },
      "source": [
        "### h.\n",
        "No. The expectation of the momentum strategy return will go up by $\\beta_1 × (-4\\%) $"
      ],
      "id": "9e27219d"
    },
    {
      "cell_type": "markdown",
      "metadata": {
        "id": "ohreS47ThxjT"
      },
      "source": [
        "## Part 2: The Fama-French (1993) three-factor mode\n",
        "---"
      ],
      "id": "ohreS47ThxjT"
    },
    {
      "cell_type": "markdown",
      "metadata": {
        "id": "sfvv3QJBimz2"
      },
      "source": [
        "### a.\n",
        "\n",
        "No, the change of momentum will not be expected to $\\beta_{1}$. Because benchmark risk factors are not independent, SMB and HML will change as market goes up. Assuming that stocks across the market goes up by 1%, the corresponding rising of SMB and HML are $x_1$ and $x_2$. Then the momentum will be expected to go up by $0.01×\\beta_{1}+ x_{1}\\times\\beta_{2}+x_2\\times\\beta_{3}$. "
      ],
      "id": "sfvv3QJBimz2"
    },
    {
      "cell_type": "markdown",
      "metadata": {
        "id": "IaPRq5fJiylc"
      },
      "source": [
        "### b.\n",
        "\n",
        "SMB stands for \"Small (market capitalization) Minus Big\" and HML for \"High (book-to-market ratio) Minus Low\"; they measure the historic excess returns of small caps over big caps and of value stocks over growth stocks.\n",
        "\n",
        "SMB earns positive return by longing publicly traded companies with small market caps, whose return is usually higher than those with large market cap. HML accounts for value stocks with high book-to-market ratios that generate higher returns in comparison to the market."
      ],
      "id": "IaPRq5fJiylc"
    },
    {
      "cell_type": "markdown",
      "metadata": {
        "id": "reteg0HPi9pz"
      },
      "source": [
        "### c.\n",
        "\n",
        "The benchmarking against SMB and HML would be appropriate. \n",
        "\n",
        "As we known about Fama-French three factor model, size could be interpreted as a liquidity premium,and value multiples are compensation for default risk. Therefore the values of SMB and HML can reflects the risk of default and liqudity. This could explain the rationale for momentum trading strategies in $mkt_{Europe}, mkt_{HongKong}$ and  $mkt_{USA}$. \n",
        "\n",
        "In investment opportunity set theory. the value of an enterprise is the value generated by the ongoing future surplus of its existing operating assets, plus the value generated by all future investment plans that may expect a positive net present value, which is the so-called investment opportunity set. \n",
        "\n",
        "SMB explains the impact of company size on company value, while HML explains the impact of investment opportunity set on company value."
      ],
      "id": "reteg0HPi9pz"
    },
    {
      "cell_type": "markdown",
      "metadata": {
        "id": "TqK2aIr7BDzr"
      },
      "source": [
        "## Part 3: Being an Alpha Detective\n",
        "---"
      ],
      "id": "TqK2aIr7BDzr"
    },
    {
      "cell_type": "markdown",
      "metadata": {
        "id": "fOhkWaNCBUKC"
      },
      "source": [
        "### 1.\n",
        "\n",
        "The exposures of this strategy to Fama French factors:\n",
        "\n",
        "> $r_{mkt}-r_{f}$ : -0.5\n",
        "\n",
        "> $smb$ : -0.5\n",
        "\n",
        "> $hml$ : 0\n",
        "\n",
        "> $rmw$ : -0.5\n",
        "\n",
        "> $cma$ : 0.5\n"
      ],
      "id": "fOhkWaNCBUKC"
    },
    {
      "cell_type": "code",
      "execution_count": null,
      "metadata": {
        "id": "IoDTu_OJKLnE"
      },
      "outputs": [],
      "source": [
        "# import dataframe h1_mystery_meat.parquet\n",
        "df = pd.read_parquet('h1_mystery_meat.parquet')"
      ],
      "id": "IoDTu_OJKLnE"
    },
    {
      "cell_type": "code",
      "execution_count": null,
      "metadata": {
        "colab": {
          "base_uri": "https://localhost:8080/",
          "height": 528
        },
        "id": "Dz_83oAaKSrq",
        "outputId": "35e0f8ad-cf7b-4702-b05e-016c506f9198"
      },
      "outputs": [
        {
          "output_type": "execute_result",
          "data": {
            "text/plain": [
              "<class 'statsmodels.iolib.summary.Summary'>\n",
              "\"\"\"\n",
              "                            OLS Regression Results                            \n",
              "==============================================================================\n",
              "Dep. Variable:           mystery_meat   R-squared:                       1.000\n",
              "Model:                            OLS   Adj. R-squared:                  1.000\n",
              "Method:                 Least Squares   F-statistic:                 1.295e+10\n",
              "Date:                Mon, 11 Apr 2022   Prob (F-statistic):               0.00\n",
              "Time:                        09:57:22   Log-Likelihood:                 7835.9\n",
              "No. Observations:                 703   AIC:                        -1.566e+04\n",
              "Df Residuals:                     697   BIC:                        -1.563e+04\n",
              "Df Model:                           5                                         \n",
              "Covariance Type:            nonrobust                                         \n",
              "==============================================================================\n",
              "                 coef    std err          t      P>|t|      [0.025      0.975]\n",
              "------------------------------------------------------------------------------\n",
              "Intercept     -0.0010   1.39e-07  -7217.444      0.000      -0.001      -0.001\n",
              "mkt_rf        -0.5000    3.4e-06  -1.47e+05      0.000      -0.500      -0.500\n",
              "smb           -0.5000   4.81e-06  -1.04e+05      0.000      -0.500      -0.500\n",
              "hml         4.686e-06   6.29e-06      0.745      0.457   -7.67e-06     1.7e-05\n",
              "rmw           -0.5000   6.53e-06  -7.66e+04      0.000      -0.500      -0.500\n",
              "cma            0.5000   9.68e-06   5.16e+04      0.000       0.500       0.500\n",
              "==============================================================================\n",
              "Omnibus:                      114.064   Durbin-Watson:                   1.996\n",
              "Prob(Omnibus):                  0.000   Jarque-Bera (JB):               27.508\n",
              "Skew:                           0.099   Prob(JB):                     1.06e-06\n",
              "Kurtosis:                       2.052   Cond. No.                         82.5\n",
              "==============================================================================\n",
              "\n",
              "Warnings:\n",
              "[1] Standard Errors assume that the covariance matrix of the errors is correctly specified.\n",
              "\"\"\""
            ],
            "text/html": [
              "<table class=\"simpletable\">\n",
              "<caption>OLS Regression Results</caption>\n",
              "<tr>\n",
              "  <th>Dep. Variable:</th>      <td>mystery_meat</td>   <th>  R-squared:         </th>  <td>   1.000</td> \n",
              "</tr>\n",
              "<tr>\n",
              "  <th>Model:</th>                   <td>OLS</td>       <th>  Adj. R-squared:    </th>  <td>   1.000</td> \n",
              "</tr>\n",
              "<tr>\n",
              "  <th>Method:</th>             <td>Least Squares</td>  <th>  F-statistic:       </th>  <td>1.295e+10</td>\n",
              "</tr>\n",
              "<tr>\n",
              "  <th>Date:</th>             <td>Mon, 11 Apr 2022</td> <th>  Prob (F-statistic):</th>   <td>  0.00</td>  \n",
              "</tr>\n",
              "<tr>\n",
              "  <th>Time:</th>                 <td>09:57:22</td>     <th>  Log-Likelihood:    </th>  <td>  7835.9</td> \n",
              "</tr>\n",
              "<tr>\n",
              "  <th>No. Observations:</th>      <td>   703</td>      <th>  AIC:               </th> <td>-1.566e+04</td>\n",
              "</tr>\n",
              "<tr>\n",
              "  <th>Df Residuals:</th>          <td>   697</td>      <th>  BIC:               </th> <td>-1.563e+04</td>\n",
              "</tr>\n",
              "<tr>\n",
              "  <th>Df Model:</th>              <td>     5</td>      <th>                     </th>      <td> </td>    \n",
              "</tr>\n",
              "<tr>\n",
              "  <th>Covariance Type:</th>      <td>nonrobust</td>    <th>                     </th>      <td> </td>    \n",
              "</tr>\n",
              "</table>\n",
              "<table class=\"simpletable\">\n",
              "<tr>\n",
              "      <td></td>         <th>coef</th>     <th>std err</th>      <th>t</th>      <th>P>|t|</th>  <th>[0.025</th>    <th>0.975]</th>  \n",
              "</tr>\n",
              "<tr>\n",
              "  <th>Intercept</th> <td>   -0.0010</td> <td> 1.39e-07</td> <td>-7217.444</td> <td> 0.000</td> <td>   -0.001</td> <td>   -0.001</td>\n",
              "</tr>\n",
              "<tr>\n",
              "  <th>mkt_rf</th>    <td>   -0.5000</td> <td>  3.4e-06</td> <td>-1.47e+05</td> <td> 0.000</td> <td>   -0.500</td> <td>   -0.500</td>\n",
              "</tr>\n",
              "<tr>\n",
              "  <th>smb</th>       <td>   -0.5000</td> <td> 4.81e-06</td> <td>-1.04e+05</td> <td> 0.000</td> <td>   -0.500</td> <td>   -0.500</td>\n",
              "</tr>\n",
              "<tr>\n",
              "  <th>hml</th>       <td> 4.686e-06</td> <td> 6.29e-06</td> <td>    0.745</td> <td> 0.457</td> <td>-7.67e-06</td> <td>  1.7e-05</td>\n",
              "</tr>\n",
              "<tr>\n",
              "  <th>rmw</th>       <td>   -0.5000</td> <td> 6.53e-06</td> <td>-7.66e+04</td> <td> 0.000</td> <td>   -0.500</td> <td>   -0.500</td>\n",
              "</tr>\n",
              "<tr>\n",
              "  <th>cma</th>       <td>    0.5000</td> <td> 9.68e-06</td> <td> 5.16e+04</td> <td> 0.000</td> <td>    0.500</td> <td>    0.500</td>\n",
              "</tr>\n",
              "</table>\n",
              "<table class=\"simpletable\">\n",
              "<tr>\n",
              "  <th>Omnibus:</th>       <td>114.064</td> <th>  Durbin-Watson:     </th> <td>   1.996</td>\n",
              "</tr>\n",
              "<tr>\n",
              "  <th>Prob(Omnibus):</th> <td> 0.000</td>  <th>  Jarque-Bera (JB):  </th> <td>  27.508</td>\n",
              "</tr>\n",
              "<tr>\n",
              "  <th>Skew:</th>          <td> 0.099</td>  <th>  Prob(JB):          </th> <td>1.06e-06</td>\n",
              "</tr>\n",
              "<tr>\n",
              "  <th>Kurtosis:</th>      <td> 2.052</td>  <th>  Cond. No.          </th> <td>    82.5</td>\n",
              "</tr>\n",
              "</table><br/><br/>Warnings:<br/>[1] Standard Errors assume that the covariance matrix of the errors is correctly specified."
            ]
          },
          "metadata": {},
          "execution_count": 27
        }
      ],
      "source": [
        "# apply regression on fama-french factors and mystery strategy\n",
        "smf.ols('mystery_meat ~ 1 + mkt_rf + smb + hml + rmw + cma', data=df).fit().summary()"
      ],
      "id": "Dz_83oAaKSrq"
    },
    {
      "cell_type": "markdown",
      "metadata": {
        "id": "6CpsP50BHIK7"
      },
      "source": [
        "### 2.\n",
        "\n",
        "According to the summary of the regression, it can be concluded that the mystery stategy is conducted by four portfolios, $r_{mkt}-r_{f}, smb, rmw, cma$, and transaction fee,which is the intercept of the model. The reason is that $\\beta_{hml}$ is too small to consider and its t-statistic is not significant, while each $\\beta$ of other factors has significant t-statisctic, which implies the evidence of the relationship with the mystery strategy is very strong. \n",
        "\n",
        "The model should be:\n",
        "\n",
        "\n",
        ">$r_{mystery} = -0.5 \\times (r_{mkt}-r_{f}) - 0.5 \\times smb - 0.5 × rmw + 0.5 × cma - 0.001$ \n",
        "\n",
        "In summary, the mystery meat is a strategy shorting $1/2$ units market portfolio ($r_{mkt}$), $1/2$ units smb portfolio ($r_{smb}$) and $1/2$ units rmw portfolio ($r_{rmw}$), and longing $1/2$ units cma portfolio ($r_{cma}$) and $1/2$ units risk free portfolio ($r_{f}$) ,with $0.1\\%$ monthly transaction fee. Shortly, if someone holds 1-dollar mystery meat portfolio, it equivalents to shorting 0.5 dollars marktet porfolio, smb portfolio and rmw portfolio, then buying 0.5 dollars cma portfolio, with $0.1\\%$ monthly transaction fee."
      ],
      "id": "6CpsP50BHIK7"
    },
    {
      "cell_type": "markdown",
      "source": [
        "##*Reference:*\n",
        "---\n",
        "\n",
        "*Avanidhar Subrahmanyam (2018). Equity market momentum: A synthesis of the literature and suggestions for future work. Pacific-Basin Finance Journal, Volume 51, 291-296.*\n",
        "\n",
        "*Antoniou, C., Doukas, J., & Subrahmanyam, A. (2013). Cognitive Dissonance, Sentiment, and Momentum. Journal of Financial and Quantitative Analysis, 48(1), 245-275.*\n",
        "\n",
        "*Hong, H., Stein, J., & Yu, J. (2007). Simple Forecasts and Paradigm Shifts. The Journal of Finance (New York), 62(3), 1207-1242.*\n",
        "\n",
        "*Vafiadis, N. (2015). Forecasting volatility and the risk-return tradeoff: An application on the fama-french benchmark market return. Journal of Time Series Econometrics, 7(2), 181-216. doi:http://dx.doi.org/10.1515/jtse-2012-0018*\n",
        "\n",
        "*Leippold, Markus, and Roger Rueegg. \"Fama–French Factor Timing: The Long‐only Integrated Approach.\" European Financial Management : The Journal of the European Financial Management Association 27.4 (2021): 666-700. Web.*"
      ],
      "metadata": {
        "id": "aGThFo474ANM"
      },
      "id": "aGThFo474ANM"
    }
  ],
  "metadata": {
    "colab": {
      "collapsed_sections": [],
      "name": "mfin7037 hw1.ipynb",
      "provenance": [],
      "toc_visible": true,
      "include_colab_link": true
    },
    "kernelspec": {
      "display_name": "Python 3",
      "language": "python",
      "name": "python3"
    },
    "language_info": {
      "codemirror_mode": {
        "name": "ipython",
        "version": 3
      },
      "file_extension": ".py",
      "mimetype": "text/x-python",
      "name": "python",
      "nbconvert_exporter": "python",
      "pygments_lexer": "ipython3",
      "version": "3.8.8"
    }
  },
  "nbformat": 4,
  "nbformat_minor": 5
}